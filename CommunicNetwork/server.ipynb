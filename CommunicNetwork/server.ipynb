{
 "cells": [
  {
   "cell_type": "markdown",
   "metadata": {},
   "source": [
    "Defining Quic server and its functions.\n"
   ]
  },
  {
   "cell_type": "code",
   "execution_count": 1,
   "metadata": {},
   "outputs": [
    {
     "name": "stdout",
     "output_type": "stream",
     "text": [
      "Streams: 8 / 10\n",
      "File size: 1540820\n",
      "\n",
      "Stream 1:\n",
      "Bytes transferred: 755712\n",
      "Packets transferred: 738\n",
      "Average bytes per millisecond: 90.21807541014654\n",
      "Average packets per millisecond: 0.08810358926772123\n",
      "\n",
      "Total Metrics:\n",
      "Total bytes per millisecond: 90.21807541014654\n",
      "Total packets per millisecond: 0.08810358926772123\n"
     ]
    }
   ],
   "source": [
    "import socket\n",
    "import struct\n",
    "import time\n",
    "import math\n",
    "import select\n",
    "\n",
    "class QuicServer:\n",
    "    local_port = 12345\n",
    "    packet_size = 1024\n",
    "\n",
    "    def __init__(self):\n",
    "        self.socket = socket.socket(socket.AF_INET, socket.SOCK_DGRAM)\n",
    "        self.socket.bind(('', self.local_port))\n",
    "        self.stream_data = {}\n",
    "        self.start_time = {}\n",
    "        self.total_bytes_received = 0\n",
    "        self.total_packets_received = 0\n",
    "        self.streams_complete = set()\n",
    "\n",
    "    def process_initial_message(self):\n",
    "        initial_message, sender_address = self.socket.recvfrom(4096)  # Increase buffer size to 4096 bytes\n",
    "        if len(initial_message) < 8:\n",
    "            raise ValueError(\"Initial message is too short\")\n",
    "        sender_ip, _ = sender_address\n",
    "        num_streams, file_size = struct.unpack(\"!II\", initial_message)\n",
    "        return sender_ip, num_streams, file_size\n",
    "\n",
    "\n",
    "    def update_statistics(self, stream_id, data):\n",
    "        if stream_id not in self.stream_data:\n",
    "            self.stream_data[stream_id] = {\"bytes_received\": 0, \"packets_received\": 0}\n",
    "            self.start_time[stream_id] = time.time()\n",
    "        self.stream_data[stream_id][\"bytes_received\"] += len(data)\n",
    "        self.stream_data[stream_id][\"packets_received\"] += 1\n",
    "\n",
    "        self.total_bytes_received += len(data)\n",
    "        self.total_packets_received += 1\n",
    "\n",
    "    def receive_packets(self, stream_id, file_size):\n",
    "        received_data = b\"\"\n",
    "        while True:\n",
    "            ready, _, _ = select.select([self.socket], [], [], 1)  # Wait for 1 second for incoming data\n",
    "            if not ready:\n",
    "                break  # Timeout reached, exit loop\n",
    "            data, _ = self.socket.recvfrom(self.packet_size + 4)  # 4 bytes for stream_id\n",
    "            received_stream_id = struct.unpack(\"!I\", data[:4])[0]\n",
    "            if received_stream_id != stream_id:\n",
    "                continue  # Ignore data for other streams\n",
    "            if data[4:] == b\"END\":\n",
    "                break  # End of stream\n",
    "            received_data += data[4:]\n",
    "            self.update_statistics(stream_id, data[4:])\n",
    "        return received_data\n",
    "\n",
    "    def calculate_metrics(self):\n",
    "        metrics = {}\n",
    "        current_time = time.time()\n",
    "        for stream_id, data in self.stream_data.items():\n",
    "            elapsed_time_ms = (current_time - self.start_time.get(stream_id, current_time)) * 1000\n",
    "            if elapsed_time_ms == 0:\n",
    "                elapsed_time_ms = 1\n",
    "            metrics[stream_id] = {\n",
    "                \"bytes_transferred\": data[\"bytes_received\"],\n",
    "                \"packets_transferred\": data[\"packets_received\"],\n",
    "                \"average_bytes_per_millisecond\": data[\"bytes_received\"] / elapsed_time_ms,\n",
    "                \"average_packets_per_millisecond\": data[\"packets_received\"] / elapsed_time_ms,\n",
    "            }\n",
    "        total_elapsed_time_ms = (current_time - self.start_time[1]) * 1000 if self.start_time else 1\n",
    "        if total_elapsed_time_ms == 0:\n",
    "            total_elapsed_time_ms = 1\n",
    "        total_metrics = {\n",
    "            \"total_bytes_per_millisecond\": self.total_bytes_received / total_elapsed_time_ms,\n",
    "            \"total_packets_per_millisecond\": self.total_packets_received / total_elapsed_time_ms\n",
    "        }\n",
    "        return metrics, total_metrics\n",
    "\n",
    "    def print_statistics(self, metrics, total_metrics, num_completed_streams, total_streams, file_size):\n",
    "        print(f\"Streams: {num_completed_streams} / {total_streams}\")\n",
    "        print(f\"File size: {file_size}\")\n",
    "\n",
    "        for stream_id, metric in metrics.items():\n",
    "            print(f\"\\nStream {stream_id}:\")\n",
    "            print(f\"Bytes transferred: {metric['bytes_transferred']}\")\n",
    "            print(f\"Packets transferred: {metric['packets_transferred']}\")\n",
    "            print(f\"Average bytes per millisecond: {metric['average_bytes_per_millisecond']}\")\n",
    "            print(f\"Average packets per millisecond: {metric['average_packets_per_millisecond']}\")\n",
    "\n",
    "        print(\"\\nTotal Metrics:\")\n",
    "        print(f\"Total bytes per millisecond: {total_metrics['total_bytes_per_millisecond']}\")\n",
    "        print(f\"Total packets per millisecond: {total_metrics['total_packets_per_millisecond']}\")\n",
    "\n",
    "\n",
    "# Usage example:\n",
    "server = QuicServer()\n",
    "sender_ip, num_streams, file_size = server.process_initial_message()\n",
    "for stream_id in range(1, num_streams + 1):\n",
    "    server.receive_packets(stream_id, file_size)\n",
    "metrics, total_metrics = server.calculate_metrics()\n",
    "server.print_statistics(metrics, total_metrics, num_streams, 10, file_size)"
   ]
  },
  {
   "cell_type": "markdown",
   "metadata": {},
   "source": [
    "Creating the server and receiving data.\n",
    "\n",
    "The server receives an initial message that includes the amount of streams and the size of the file being transferred.\n",
    "The server uses that information to appropriately receive the file over multiple streams.\n",
    "For each stream, the server receives the file while updating the statistics."
   ]
  },
  {
   "cell_type": "code",
   "execution_count": 2,
   "metadata": {},
   "outputs": [
    {
     "ename": "error",
     "evalue": "unpack requires a buffer of 8 bytes",
     "output_type": "error",
     "traceback": [
      "\u001b[1;31m---------------------------------------------------------------------------\u001b[0m",
      "\u001b[1;31merror\u001b[0m                                     Traceback (most recent call last)",
      "Cell \u001b[1;32mIn[2], line 5\u001b[0m\n\u001b[0;32m      2\u001b[0m server \u001b[38;5;241m=\u001b[39m QuicServer()\n\u001b[0;32m      4\u001b[0m \u001b[38;5;66;03m# Receive the initial message and extract the sender's IP, number of streams, and file size\u001b[39;00m\n\u001b[1;32m----> 5\u001b[0m sender_ip, num_streams, file_size \u001b[38;5;241m=\u001b[39m \u001b[43mserver\u001b[49m\u001b[38;5;241;43m.\u001b[39;49m\u001b[43mprocess_initial_message\u001b[49m\u001b[43m(\u001b[49m\u001b[43m)\u001b[49m\n\u001b[0;32m      7\u001b[0m \u001b[38;5;66;03m# Process data for each stream and assemble the file\u001b[39;00m\n\u001b[0;32m      8\u001b[0m \u001b[38;5;28;01mfor\u001b[39;00m stream_id \u001b[38;5;129;01min\u001b[39;00m \u001b[38;5;28mrange\u001b[39m(\u001b[38;5;241m1\u001b[39m, num_streams \u001b[38;5;241m+\u001b[39m \u001b[38;5;241m1\u001b[39m):\n",
      "Cell \u001b[1;32mIn[1], line 37\u001b[0m, in \u001b[0;36mQuicServer.process_initial_message\u001b[1;34m(self)\u001b[0m\n\u001b[0;32m     35\u001b[0m initial_message, sender_address \u001b[38;5;241m=\u001b[39m \u001b[38;5;28mself\u001b[39m\u001b[38;5;241m.\u001b[39msocket\u001b[38;5;241m.\u001b[39mrecvfrom(\u001b[38;5;241m1024\u001b[39m)\n\u001b[0;32m     36\u001b[0m sender_ip, _ \u001b[38;5;241m=\u001b[39m sender_address\n\u001b[1;32m---> 37\u001b[0m num_streams, file_size \u001b[38;5;241m=\u001b[39m \u001b[43mstruct\u001b[49m\u001b[38;5;241;43m.\u001b[39;49m\u001b[43munpack\u001b[49m\u001b[43m(\u001b[49m\u001b[38;5;124;43m\"\u001b[39;49m\u001b[38;5;124;43m!II\u001b[39;49m\u001b[38;5;124;43m\"\u001b[39;49m\u001b[43m,\u001b[49m\u001b[43m \u001b[49m\u001b[43minitial_message\u001b[49m\u001b[43m)\u001b[49m\n\u001b[0;32m     38\u001b[0m \u001b[38;5;28;01mreturn\u001b[39;00m sender_ip, num_streams, file_size\n",
      "\u001b[1;31merror\u001b[0m: unpack requires a buffer of 8 bytes"
     ]
    }
   ],
   "source": [
    "# Create QuicServer instance\n",
    "server = QuicServer()\n",
    "\n",
    "# Receive the initial message and extract the sender's IP, number of streams, and file size\n",
    "sender_ip, num_streams, file_size = server.process_initial_message()\n",
    "\n",
    "# Process data for each stream and assemble the file\n",
    "for stream_id in range(1, num_streams + 1):\n",
    "    server.update_statistics(stream_id, b\"\")  # Initialize data for the stream\n",
    "    received_data = server.receive_packets(stream_id, file_size)\n",
    "\n",
    "# Calculate metrics for each stream and total metrics\n",
    "metrics, total_metrics = server.calculate_metrics()\n",
    "\n"
   ]
  },
  {
   "cell_type": "markdown",
   "metadata": {},
   "source": [
    "Printing the statistics\n",
    "\n",
    "Using the statistics calculated in the previous step, print the statistics for each stream and the total metrics."
   ]
  },
  {
   "cell_type": "code",
   "execution_count": null,
   "metadata": {},
   "outputs": [],
   "source": [
    "# Print statistics for each stream and total metrics\n",
    "server.print_statistics(metrics, total_metrics)"
   ]
  }
 ],
 "metadata": {
  "kernelspec": {
   "display_name": "Python 3",
   "language": "python",
   "name": "python3"
  },
  "language_info": {
   "codemirror_mode": {
    "name": "ipython",
    "version": 3
   },
   "file_extension": ".py",
   "mimetype": "text/x-python",
   "name": "python",
   "nbconvert_exporter": "python",
   "pygments_lexer": "ipython3",
   "version": "3.11.9"
  }
 },
 "nbformat": 4,
 "nbformat_minor": 2
}
