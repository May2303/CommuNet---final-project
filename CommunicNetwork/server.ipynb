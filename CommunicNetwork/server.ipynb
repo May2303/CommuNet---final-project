{
 "cells": [
  {
   "cell_type": "code",
   "execution_count": null,
   "metadata": {},
   "outputs": [],
   "source": [
    "import os\n",
    "\n",
    "# Server Side\n",
    "class QuicServer:\n",
    "    # Other methods remain unchanged\n",
    "\n",
    "    def process_data(self, data):\n",
    "        \"\"\"Process incoming data on the stream.\"\"\"\n",
    "        # For demonstration purposes, just print the received data\n",
    "        print(\"Received data:\", data)"
   ]
  }
 ],
 "metadata": {
  "language_info": {
   "name": "python"
  }
 },
 "nbformat": 4,
 "nbformat_minor": 2
}
