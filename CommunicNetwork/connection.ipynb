{
 "cells": [
  {
   "cell_type": "code",
   "execution_count": 3,
   "metadata": {},
   "outputs": [
    {
     "ename": "ModuleNotFoundError",
     "evalue": "No module named 'stream'",
     "output_type": "error",
     "traceback": [
      "\u001b[1;31m---------------------------------------------------------------------------\u001b[0m",
      "\u001b[1;31mModuleNotFoundError\u001b[0m                       Traceback (most recent call last)",
      "Cell \u001b[1;32mIn[3], line 3\u001b[0m\n\u001b[0;32m      1\u001b[0m get_ipython()\u001b[38;5;241m.\u001b[39mrun_line_magic(\u001b[38;5;124m'\u001b[39m\u001b[38;5;124mrun\u001b[39m\u001b[38;5;124m'\u001b[39m, \u001b[38;5;124m'\u001b[39m\u001b[38;5;124mstream.ipynb\u001b[39m\u001b[38;5;124m'\u001b[39m)\n\u001b[1;32m----> 3\u001b[0m \u001b[38;5;28;01mfrom\u001b[39;00m \u001b[38;5;21;01mstream\u001b[39;00m \u001b[38;5;28;01mimport\u001b[39;00m Stream\n\u001b[0;32m      4\u001b[0m \u001b[38;5;28;01mimport\u001b[39;00m \u001b[38;5;21;01msocket\u001b[39;00m\n\u001b[0;32m      6\u001b[0m \u001b[38;5;28;01mclass\u001b[39;00m \u001b[38;5;21;01mQUICConection\u001b[39;00m:\n",
      "\u001b[1;31mModuleNotFoundError\u001b[0m: No module named 'stream'"
     ]
    }
   ],
   "source": [
    "%run stream.ipynb\n",
    "\n",
    "from stream import Stream\n",
    "import socket\n",
    "\n",
    "class QUICConection:\n",
    "    def __init__(self, local_ip, local_port):\n",
    "        \"\"\"\n",
    "        Initialize the QUIC connection with the given local IP address and port number.\n",
    "\n",
    "        Args:\n",
    "            local_ip (str): The local IP address.\n",
    "            local_port (int): The local port number.\n",
    "        \"\"\"\n",
    "        self.local_ip = local_ip\n",
    "        self.local_port = local_port\n",
    "        self.socket = socket.socket(socket.AF_INET, socket.SOCK_DGRAM)\n",
    "        self.socket.bind((self.local_ip, self.local_port))\n",
    "        self.streams = {}\n",
    "\n",
    "    def create_stream(self, stream_id, remote_ip, remote_port):\n",
    "        \"\"\"\n",
    "        Create a new stream with the given stream ID and remote IP address/port.\n",
    "\n",
    "        Args:\n",
    "            stream_id (int): The ID of the stream.\n",
    "            remote_ip (str): The remote IP address.\n",
    "            remote_port (int): The remote port number.\n",
    "\n",
    "        Returns:\n",
    "            Stream: The created stream object.\n",
    "        \"\"\"\n",
    "        stream = Stream(stream_id, self.local_ip, self.local_port, remote_ip, remote_port)\n",
    "        self.streams[stream_id] = stream\n",
    "        return stream\n",
    "\n",
    "    def get_stream(self, stream_id):\n",
    "        \"\"\"\n",
    "        Get the stream with the given stream ID.\n",
    "\n",
    "        Args:\n",
    "            stream_id (int): The ID of the stream.\n",
    "\n",
    "        Returns:\n",
    "            Stream: The stream object, or None if not found.\n",
    "        \"\"\"\n",
    "        return self.streams.get(stream_id)\n",
    "\n",
    "    def close_stream(self, stream_id):\n",
    "        \"\"\"\n",
    "        Close the stream with the given stream ID.\n",
    "\n",
    "        Args:\n",
    "            stream_id (int): The ID of the stream.\n",
    "        \"\"\"\n",
    "        if stream_id in self.streams:\n",
    "            del self.streams[stream_id]\n",
    "\n",
    "    def close(self):\n",
    "        \"\"\"\n",
    "        Close the QUIC connection and all associated streams.\n",
    "        \"\"\"\n",
    "        for stream_id in list(self.streams.keys()):\n",
    "            self.close_stream(stream_id)\n",
    "        self.socket.close()"
   ]
  }
 ],
 "metadata": {
  "kernelspec": {
   "display_name": "Python 3",
   "language": "python",
   "name": "python3"
  },
  "language_info": {
   "codemirror_mode": {
    "name": "ipython",
    "version": 3
   },
   "file_extension": ".py",
   "mimetype": "text/x-python",
   "name": "python",
   "nbconvert_exporter": "python",
   "pygments_lexer": "ipython3",
   "version": "3.11.9"
  }
 },
 "nbformat": 4,
 "nbformat_minor": 2
}
