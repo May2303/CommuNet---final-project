{
 "cells": [
  {
   "cell_type": "code",
   "execution_count": null,
   "metadata": {},
   "outputs": [],
   "source": [
    "import socket\n",
    "\n",
    "class QUICConection:\n",
    "    # Your QUICConection class implementation here...\n",
    "\n",
    "# Create a QUICConection instance\n",
    "connection = QUICConection()\n",
    "\n",
    "# Create a UDP socket\n",
    "udp_socket = socket.socket(socket.AF_INET, socket.SOCK_DGRAM)\n",
    "\n",
    "# Bind the socket to a specific address and port\n",
    "udp_socket.bind(('0.0.0.0', 12345))  # Example address and port\n",
    "\n",
    "# Connect the socket to the server's address and port\n",
    "udp_socket.connect(('example.com', 54321))  # Example server address and port\n"
   ]
  }
 ],
 "metadata": {
  "language_info": {
   "name": "python"
  }
 },
 "nbformat": 4,
 "nbformat_minor": 2
}
