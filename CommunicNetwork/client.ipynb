{
 "cells": [
  {
   "cell_type": "markdown",
   "metadata": {},
   "source": [
    "Defining the Quic client and its functions."
   ]
  },
  {
   "cell_type": "code",
   "execution_count": null,
   "metadata": {},
   "outputs": [],
   "source": [
    "import os\n",
    "import random\n",
    "import socket\n",
    "import math\n",
    "\n",
    "# Constants\n",
    "LOCAL_IP = '127.0.0.1'  # Local IP address\n",
    "LOCAL_PORT = 12345       # Local port number\n",
    "PACKET_SIZE = 1024       # Packet size in bytes\n",
    "\n",
    "import os\n",
    "import math\n",
    "import socket\n",
    "\n",
    "class QuicClient:\n",
    "    def __init__(self):\n",
    "        self.streams = []\n",
    "\n",
    "    def generate_random_data(self, size):\n",
    "        \"\"\"Generate random data of the specified size.\n",
    "\n",
    "        Args:\n",
    "            size (int): The size of the random data to generate.\n",
    "\n",
    "        Returns:\n",
    "            bytes: The generated random data.\n",
    "        \"\"\"\n",
    "        return os.urandom(size)\n",
    "\n",
    "    def generate_random_file(self, file_size):\n",
    "        \"\"\"Generate a random file with the specified size.\n",
    "\n",
    "        Args:\n",
    "            file_size (int): The size of the random file to generate.\n",
    "        \"\"\"\n",
    "        with open(\"random_file.txt\", \"wb\") as file:\n",
    "            file.write(self.generate_random_data(file_size))\n",
    "\n",
    "    def create_streams(self, num_streams):\n",
    "        \"\"\"Create the specified number of streams.\n",
    "\n",
    "        Args:\n",
    "            num_streams (int): The number of streams to create.\n",
    "        \"\"\"\n",
    "        for i in range(num_streams):\n",
    "            stream_id = i + 1  # Stream IDs start from 1\n",
    "            self.streams.append(stream_id)\n",
    "\n",
    "    def send_file_over_streams(self, file_size):\n",
    "        \"\"\"Send the generated file over multiple streams.\n",
    "\n",
    "        Args:\n",
    "            file_size (int): The size of the file to send.\n",
    "        \"\"\"\n",
    "        with open(\"random_file.txt\", \"rb\") as file:\n",
    "            file_data = file.read()\n",
    "            num_packets = math.ceil(file_size / PACKET_SIZE)  # Calculate total number of packets\n",
    "            for stream_id in self.streams:\n",
    "                for i in range(num_packets):\n",
    "                    start = i * PACKET_SIZE\n",
    "                    end = min(start + PACKET_SIZE, file_size)\n",
    "                    chunk = file_data[start:end]\n",
    "                    self.send_data(stream_id, chunk)\n",
    "\n",
    "    def send_data(self, stream_id, data):\n",
    "        \"\"\"Send data over the specified stream.\n",
    "\n",
    "        Args:\n",
    "            stream_id (int): The ID of the stream to send the data over.\n",
    "            data (bytes): The data to send.\n",
    "        \"\"\"\n",
    "        server_address = (LOCAL_IP, LOCAL_PORT)\n",
    "        with socket.socket(socket.AF_INET, socket.SOCK_DGRAM) as sock:\n",
    "            sock.sendto(data, server_address)\n",
    "\n",
    "\n",
    "\n",
    "\n"
   ]
  },
  {
   "cell_type": "markdown",
   "metadata": {},
   "source": [
    "Creating a Quic Client and sending the file.\n",
    "\n",
    "A random file is being generated of size 1 - 2 mega bytes.\n",
    "Amount of streams are being generated (1-10)\n",
    "The client then sends the file over to the receiver. Such that in each stream the same file is being sent once."
   ]
  },
  {
   "cell_type": "code",
   "execution_count": null,
   "metadata": {},
   "outputs": [],
   "source": [
    "# Generate a random file with a size between 1 and 2 MB\n",
    "file_size = random.randint(1024 * 1024, 2 * 1024 * 1024)\n",
    "client = QuicClient()\n",
    "client.generate_random_file(file_size)\n",
    "\n",
    "# Generate a random number of streams between 1 and 10\n",
    "num_streams = random.randint(1, 10)\n",
    "\n",
    "# Create the specified number of streams\n",
    "client.create_streams(num_streams)\n",
    "\n",
    "# Send the generated file over multiple streams\n",
    "client.send_file_over_streams(file_size)"
   ]
  },
  {
   "cell_type": "markdown",
   "metadata": {},
   "source": [
    "Clean up"
   ]
  },
  {
   "cell_type": "code",
   "execution_count": null,
   "metadata": {},
   "outputs": [],
   "source": [
    "#clean up\n",
    "os.remove(\"random_file.txt\")"
   ]
  }
 ],
 "metadata": {
  "language_info": {
   "name": "python"
  }
 },
 "nbformat": 4,
 "nbformat_minor": 2
}
