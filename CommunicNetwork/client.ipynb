{
 "cells": [
  {
   "cell_type": "code",
   "execution_count": null,
   "metadata": {},
   "outputs": [],
   "source": [
    "import os\n",
    "import random\n",
    "\n",
    "# Constants\n",
    "MIN_PACKET_SIZE_BYTES = 1000\n",
    "MAX_PACKET_SIZE_BYTES = 2000\n",
    "\n",
    "# Client Side\n",
    "class QuicClient:\n",
    "    # Other methods remain unchanged\n",
    "\n",
    "    def generate_random_data(self, size):\n",
    "        \"\"\"Generate random data of the specified size.\"\"\"\n",
    "        return os.urandom(size)\n",
    "\n",
    "    def send_data(self, stream_id):\n",
    "        \"\"\"Generate random data within the specified size range and send it over the stream.\"\"\"\n",
    "        packet_size = random.randint(MIN_PACKET_SIZE_BYTES, MAX_PACKET_SIZE_BYTES)\n",
    "        data = self.generate_random_data(packet_size)\n",
    "        super().send_data(stream_id, data)\n"
   ]
  }
 ],
 "metadata": {
  "language_info": {
   "name": "python"
  }
 },
 "nbformat": 4,
 "nbformat_minor": 2
}
