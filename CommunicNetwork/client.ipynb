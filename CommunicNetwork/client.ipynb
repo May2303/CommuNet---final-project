{
 "cells": [
  {
   "cell_type": "markdown",
   "metadata": {},
   "source": [
    "Defining the Quic client and its functions."
   ]
  },
  {
   "cell_type": "code",
   "execution_count": 1,
   "metadata": {},
   "outputs": [],
   "source": [
    "import os\n",
    "import socket\n",
    "import struct\n",
    "import math\n",
    "import random\n",
    "\n",
    "LOCAL_IP = '127.0.0.1'\n",
    "LOCAL_PORT = 12345\n",
    "PACKET_SIZE = 1024\n",
    "\n",
    "class QuicClient:\n",
    "    def __init__(self):\n",
    "        self.streams = []\n",
    "\n",
    "    def generate_random_data(self, size):\n",
    "        return os.urandom(size)\n",
    "\n",
    "    def generate_random_file(self, file_size):\n",
    "        with open(\"random_file.txt\", \"wb\") as file:\n",
    "            file.write(self.generate_random_data(file_size))\n",
    "\n",
    "    def create_streams(self, num_streams):\n",
    "        for i in range(num_streams):\n",
    "            stream_id = i + 1\n",
    "            self.streams.append(stream_id)\n",
    "\n",
    "    def send_file_over_streams(self, file_size):\n",
    "        with open(\"random_file.txt\", \"rb\") as file:\n",
    "            file_data = file.read()\n",
    "            num_packets = math.ceil(file_size / PACKET_SIZE)\n",
    "            for stream_id in self.streams:\n",
    "                for i in range(num_packets):\n",
    "                    start = i * PACKET_SIZE\n",
    "                    end = min(start + PACKET_SIZE, file_size)\n",
    "                    chunk = file_data[start:end]\n",
    "                    self.send_data(stream_id, chunk)\n",
    "                self.send_end_of_stream(stream_id)\n",
    "\n",
    "    def send_data(self, stream_id, data):\n",
    "        server_address = (LOCAL_IP, LOCAL_PORT)\n",
    "        with socket.socket(socket.AF_INET, socket.SOCK_DGRAM) as sock:\n",
    "            message = struct.pack(\"!I\", stream_id) + data\n",
    "            sock.sendto(message, server_address)\n",
    "\n",
    "    def send_end_of_stream(self, stream_id):\n",
    "        server_address = (LOCAL_IP, LOCAL_PORT)\n",
    "        with socket.socket(socket.AF_INET, socket.SOCK_DGRAM) as sock:\n",
    "            message = struct.pack(\"!I\", stream_id) + b\"END\"\n",
    "            sock.sendto(message, server_address)\n",
    "            \n",
    "    def send_initial_message(self, num_streams, file_size):\n",
    "        initial_message = struct.pack(\"!II\", num_streams, file_size)\n",
    "        server_address = (LOCAL_IP, LOCAL_PORT)\n",
    "        with socket.socket(socket.AF_INET, socket.SOCK_DGRAM) as sock:\n",
    "            sock.sendto(initial_message, server_address)\n",
    "\n",
    "\n",
    "# Usage example:\n",
    "client = QuicClient()\n",
    "two_mb = 2*1024*1024\n",
    "one_mb = 1*1024*1024\n",
    "# Generate random file size between 1 and 2 megabytes\n",
    "file_size = random.randint(one_mb, two_mb)\n",
    "client.generate_random_file(file_size)\n",
    "\n",
    "# Generate random number of streams between 1 and 10\n",
    "num_streams = random.randint(1, 10)\n",
    "client.create_streams(num_streams)\n",
    "\n",
    "# Send initial message with the random number of streams and file size\n",
    "client.send_initial_message(num_streams, file_size)\n",
    "\n",
    "# Send the file over streams\n",
    "client.send_file_over_streams(file_size)\n",
    "\n",
    "os.remove(\"random_file.txt\")\n",
    "\n"
   ]
  },
  {
   "cell_type": "markdown",
   "metadata": {},
   "source": [
    "Creating a Quic Client and sending the file.\n",
    "\n",
    "A random file is being generated of size 1 - 2 mega bytes.\n",
    "Amount of streams are being generated (1-10)\n",
    "The client then sends the file over to the receiver. Such that in each stream the same file is being sent once."
   ]
  },
  {
   "cell_type": "code",
   "execution_count": 2,
   "metadata": {},
   "outputs": [],
   "source": [
    "# Generate a random file with a size between 1 and 2 MB\n",
    "file_size = random.randint(1024 * 1024, 2 * 1024 * 1024)\n",
    "client = QuicClient()\n",
    "client.generate_random_file(file_size)\n",
    "\n",
    "# Generate a random number of streams between 1 and 10\n",
    "num_streams = random.randint(1, 10)\n",
    "\n",
    "# Create the specified number of streams\n",
    "client.create_streams(num_streams)\n",
    "\n",
    "# Send the generated file over multiple streams\n",
    "client.send_file_over_streams(file_size)"
   ]
  },
  {
   "cell_type": "markdown",
   "metadata": {},
   "source": [
    "Clean up"
   ]
  },
  {
   "cell_type": "code",
   "execution_count": 3,
   "metadata": {},
   "outputs": [],
   "source": [
    "#clean up\n",
    "os.remove(\"random_file.txt\")"
   ]
  }
 ],
 "metadata": {
  "kernelspec": {
   "display_name": "Python 3",
   "language": "python",
   "name": "python3"
  },
  "language_info": {
   "codemirror_mode": {
    "name": "ipython",
    "version": 3
   },
   "file_extension": ".py",
   "mimetype": "text/x-python",
   "name": "python",
   "nbconvert_exporter": "python",
   "pygments_lexer": "ipython3",
   "version": "3.11.9"
  }
 },
 "nbformat": 4,
 "nbformat_minor": 2
}
