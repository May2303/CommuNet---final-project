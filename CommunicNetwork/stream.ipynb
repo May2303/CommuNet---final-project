{
 "cells": [
  {
   "cell_type": "code",
   "execution_count": null,
   "metadata": {},
   "outputs": [],
   "source": [
    "class Stream:\n",
    "    def __init__(self, stream_id, local_ip, local_port, remote_ip, remote_port):\n",
    "        \"\"\"\n",
    "        Initialize a new stream with the given parameters.\n",
    "\n",
    "        Args:\n",
    "            stream_id (int): The ID of the stream.\n",
    "            local_ip (str): The local IP address.\n",
    "            local_port (int): The local port number.\n",
    "            remote_ip (str): The remote IP address.\n",
    "            remote_port (int): The remote port number.\n",
    "        \"\"\"\n",
    "        self.stream_id = stream_id\n",
    "        self.local_ip = local_ip\n",
    "        self.local_port = local_port\n",
    "        self.remote_ip = remote_ip\n",
    "        self.remote_port = remote_port\n",
    "        self.socket = socket.socket(socket.AF_INET, socket.SOCK_DGRAM)\n",
    "\n",
    "    def send_data(self, data):\n",
    "        \"\"\"\n",
    "        Send data on the stream.\n",
    "\n",
    "        Args:\n",
    "            data (bytes): The data to send.\n",
    "        \"\"\"\n",
    "        encoded_data = data.encode()\n",
    "        self.socket.sendto(encoded_data, (self.remote_ip, self.remote_port))\n",
    "\n",
    "    def receive_data(self, buffer_size=1024):\n",
    "        \"\"\"\n",
    "        Receive data on the stream.\n",
    "\n",
    "        Args:\n",
    "            buffer_size (int): The size of the receive buffer.\n",
    "\n",
    "        Returns:\n",
    "            bytes: The received data.\n",
    "        \"\"\"\n",
    "        data, _ = self.socket.recvfrom(buffer_size)\n",
    "        return data"
   ]
  }
 ],
 "metadata": {
  "language_info": {
   "name": "python"
  }
 },
 "nbformat": 4,
 "nbformat_minor": 2
}
